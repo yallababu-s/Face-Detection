{
 "cells": [
  {
   "cell_type": "code",
   "execution_count": 17,
   "id": "fa0faaeb",
   "metadata": {},
   "outputs": [],
   "source": [
    "#!pip install opencv-python\n",
    "#import cv2 #library import"
   ]
  },
  {
   "cell_type": "code",
   "execution_count": 18,
   "id": "cb2b596a",
   "metadata": {},
   "outputs": [],
   "source": [
    "#!pip install imutils"
   ]
  },
  {
   "cell_type": "code",
   "execution_count": 19,
   "id": "2b4018c3",
   "metadata": {},
   "outputs": [],
   "source": [
    "import cv2  #image\n",
    "import time  #delay\n",
    "import imutils #resize\n",
    "import numpy \n"
   ]
  },
  {
   "cell_type": "code",
   "execution_count": 20,
   "id": "e25a71fe",
   "metadata": {},
   "outputs": [],
   "source": [
    "img=cv2.imread(\"sample_image.png\")"
   ]
  },
  {
   "cell_type": "code",
   "execution_count": 21,
   "id": "fade7476",
   "metadata": {},
   "outputs": [
    {
     "name": "stdout",
     "output_type": "stream",
     "text": [
      "[[[255 255 255]\n",
      "  [255 255 255]\n",
      "  [255 255 255]\n",
      "  ...\n",
      "  [255 255 255]\n",
      "  [255 255 255]\n",
      "  [255 255 255]]\n",
      "\n",
      " [[255 255 255]\n",
      "  [255 255 255]\n",
      "  [255 255 255]\n",
      "  ...\n",
      "  [255 255 255]\n",
      "  [255 255 255]\n",
      "  [255 255 255]]\n",
      "\n",
      " [[255 255 255]\n",
      "  [255 255 255]\n",
      "  [255 255 255]\n",
      "  ...\n",
      "  [255 255 255]\n",
      "  [255 255 255]\n",
      "  [255 255 255]]\n",
      "\n",
      " ...\n",
      "\n",
      " [[255 255 255]\n",
      "  [255 255 255]\n",
      "  [255 255 255]\n",
      "  ...\n",
      "  [255 255 255]\n",
      "  [255 255 255]\n",
      "  [255 255 255]]\n",
      "\n",
      " [[255 255 255]\n",
      "  [255 255 255]\n",
      "  [255 255 255]\n",
      "  ...\n",
      "  [255 255 255]\n",
      "  [255 255 255]\n",
      "  [255 255 255]]\n",
      "\n",
      " [[255 255 255]\n",
      "  [255 255 255]\n",
      "  [255 255 255]\n",
      "  ...\n",
      "  [255 255 255]\n",
      "  [255 255 255]\n",
      "  [255 255 255]]]\n"
     ]
    }
   ],
   "source": [
    "print(img)"
   ]
  },
  {
   "cell_type": "code",
   "execution_count": 11,
   "id": "3e660760",
   "metadata": {},
   "outputs": [],
   "source": [
    "grayimg=cv2.cvtColor(img,cv2.COLOR_BGR2GRAY)   #color to gray image\n",
    "cv2.imwrite(\"grayimg.jpg\",grayimg)   #save an image\n",
    "cv2.imshow(\"Orig\",img)\n",
    "cv2.imshow(\"Gray\",grayimg)"
   ]
  },
  {
   "cell_type": "code",
   "execution_count": 25,
   "id": "989a2dd0",
   "metadata": {},
   "outputs": [
    {
     "name": "stdout",
     "output_type": "stream",
     "text": [
      "Image resized and saved successfully.\n"
     ]
    }
   ],
   "source": [
    "import cv2\n",
    "import imutils\n",
    "import os\n",
    "\n",
    "# File path\n",
    "file_path = 'sample_image.png'\n",
    "\n",
    "# Check if file exists\n",
    "if not os.path.exists(file_path):\n",
    "    print(f\"Error: File '{file_path}' does not exist.\")\n",
    "else:\n",
    "    # Load the image\n",
    "    img = cv2.imread(file_path)\n",
    "\n",
    "    # Check if image is loaded successfully\n",
    "    if img is None:\n",
    "        print(\"Error: Could not load image. Unsupported file format or path issue.\")\n",
    "    else:\n",
    "        # Resize the image\n",
    "        resizedImg = imutils.resize(img, width=500)\n",
    "        cv2.imwrite('resizedImage.jpg', resizedImg)\n",
    "        print(\"Image resized and saved successfully.\")\n"
   ]
  },
  {
   "cell_type": "code",
   "execution_count": 26,
   "id": "a6641436",
   "metadata": {},
   "outputs": [
    {
     "data": {
      "text/plain": [
       "True"
      ]
     },
     "execution_count": 26,
     "metadata": {},
     "output_type": "execute_result"
    }
   ],
   "source": [
    "resizedImg = imutils.resize(img, width=500)\n",
    "cv2.imwrite('resizedImage.jpg', resizedImg)\n",
    "True"
   ]
  },
  {
   "cell_type": "markdown",
   "id": "12f96aaf",
   "metadata": {},
   "source": [
    "alg = \"haarcascade_frontalface_default.xml\" #accessed the model file\n",
    "haar_cascade = cv2.CascadeClassifier(alg) #loading the model wth cv2\n",
    "cam = cv2.VideoCapture(0) #initializing camera"
   ]
  },
  {
   "cell_type": "code",
   "execution_count": 30,
   "id": "33704936",
   "metadata": {},
   "outputs": [],
   "source": [
    "#import cv2\n",
    "\n",
    "# Initialize the camera\n",
    "cam = cv2.VideoCapture(0)  # Use 0 for the default camera or replace with the camera index\n",
    "\n",
    "# Load the Haar cascade file for face detection\n",
    "haar_cascade = cv2.CascadeClassifier(cv2.data.haarcascades + 'haarcascade_frontalface_default.xml')\n",
    "\n",
    "if not cam.isOpened():\n",
    "    print(\"Error: Could not access the camera.\")\n",
    "    exit()\n",
    "\n",
    "while True:\n",
    "    # Read the frame from the camera\n",
    "    ret, img = cam.read()\n",
    "    if not ret:\n",
    "        print(\"Error: Could not read frame.\")\n",
    "        break\n",
    "\n",
    "    # Convert the frame to grayscale\n",
    "    grayImg = cv2.cvtColor(img, cv2.COLOR_BGR2GRAY)\n",
    "\n",
    "    # Detect faces in the frame\n",
    "    faces = haar_cascade.detectMultiScale(grayImg, scaleFactor=1.3, minNeighbors=4)\n",
    "\n",
    "    # Draw rectangles around detected faces\n",
    "    for (x, y, w, h) in faces:\n",
    "        cv2.rectangle(img, (x, y), (x + w, y + h), (0, 255, 0), 2)\n",
    "\n",
    "    # Show the frame with detected faces\n",
    "    cv2.imshow(\"Face Detection\", img)\n",
    "\n",
    "    # Break the loop if the 'Esc' key is pressed\n",
    "    key = cv2.waitKey(10)\n",
    "    if key == 27:  # 27 is the ASCII code for the 'Esc' key\n",
    "        break\n",
    "\n",
    "# Release the camera and close all OpenCV windows\n",
    "cam.release()\n",
    "cv2.destroyAllWindows()"
   ]
  },
  {
   "cell_type": "code",
   "execution_count": null,
   "id": "7b13a225",
   "metadata": {},
   "outputs": [],
   "source": []
  }
 ],
 "metadata": {
  "kernelspec": {
   "display_name": "Python 3 (ipykernel)",
   "language": "python",
   "name": "python3"
  },
  "language_info": {
   "codemirror_mode": {
    "name": "ipython",
    "version": 3
   },
   "file_extension": ".py",
   "mimetype": "text/x-python",
   "name": "python",
   "nbconvert_exporter": "python",
   "pygments_lexer": "ipython3",
   "version": "3.11.5"
  }
 },
 "nbformat": 4,
 "nbformat_minor": 5
}
